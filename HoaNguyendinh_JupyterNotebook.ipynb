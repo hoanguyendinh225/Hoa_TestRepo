{
  "metadata": {
    "language_info": {
      "codemirror_mode": {
        "name": "python",
        "version": 3
      },
      "file_extension": ".py",
      "mimetype": "text/x-python",
      "name": "python",
      "nbconvert_exporter": "python",
      "pygments_lexer": "ipython3",
      "version": "3.8"
    },
    "kernelspec": {
      "name": "python",
      "display_name": "Python (Pyodide)",
      "language": "python"
    }
  },
  "nbformat_minor": 4,
  "nbformat": 4,
  "cells": [
    {
      "cell_type": "markdown",
      "source": "# My Jupyter Notebook on IBM Watson Studio",
      "metadata": {}
    },
    {
      "cell_type": "markdown",
      "source": "**Nguyen Dinh Hoa**\n\nData Scientist\n",
      "metadata": {}
    },
    {
      "cell_type": "markdown",
      "source": "*I am interested in data science because my job involves a lot of data and modelings. And I feel that in the future my job requires me to work with IA/ML models.*",
      "metadata": {}
    },
    {
      "cell_type": "markdown",
      "source": "### The following code will find out what is 6 multiplied with 7",
      "metadata": {}
    },
    {
      "cell_type": "code",
      "source": "6*7",
      "metadata": {
        "trusted": true
      },
      "execution_count": null,
      "outputs": []
    },
    {
      "cell_type": "markdown",
      "source": "- The customer base of my company is distributed as follows:\n1. Corporate customers\n2. Individual customers\n***\n__[To search for something, please click this i](http://google.com)__",
      "metadata": {}
    },
    {
      "cell_type": "code",
      "source": "",
      "metadata": {},
      "execution_count": null,
      "outputs": []
    }
  ]
}